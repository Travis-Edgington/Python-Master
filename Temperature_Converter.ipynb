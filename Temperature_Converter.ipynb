{
 "cells": [
  {
   "cell_type": "code",
   "execution_count": null,
   "metadata": {},
   "outputs": [
    {
     "data": {
      "text/plain": [
       "'Test'"
      ]
     },
     "execution_count": 3,
     "metadata": {},
     "output_type": "execute_result"
    }
   ],
   "source": [
    "unit_start=str(input(\"Enter what unit is you're starting with (F, K, or C)? \")).strip()\n",
    "\n",
    "unit_end=str(input(\"What unit would you like to convert to (F, K, C)? \")).strip()\n",
    "\n",
    "temp=int(input(\"Enter the temperature measurement you're starting with: \"))\n",
    "\n",
    "\n",
    "def temp_convert(unit_start, unit_end, temp=temp):\n",
    "\n",
    "    if unit_start==unit_end:\n",
    "        return \"Your temp measurment already had the desired unit\"\n",
    "    \n",
    "    if unit_start=='F' and unit_end=='C':\n",
    "        return (temp-32)/1.8\n",
    "    \n",
    "    else: \n",
    "        return \"Test\"\n",
    "    \n",
    "temp_convert(unit_start=unit_start, unit_end=unit_end, temp=temp)\n"
   ]
  },
  {
   "cell_type": "code",
   "execution_count": null,
   "metadata": {},
   "outputs": [],
   "source": []
  }
 ],
 "metadata": {
  "kernelspec": {
   "display_name": "Python 3",
   "language": "python",
   "name": "python3"
  },
  "language_info": {
   "codemirror_mode": {
    "name": "ipython",
    "version": 3
   },
   "file_extension": ".py",
   "mimetype": "text/x-python",
   "name": "python",
   "nbconvert_exporter": "python",
   "pygments_lexer": "ipython3",
   "version": "3.13.0"
  }
 },
 "nbformat": 4,
 "nbformat_minor": 2
}
